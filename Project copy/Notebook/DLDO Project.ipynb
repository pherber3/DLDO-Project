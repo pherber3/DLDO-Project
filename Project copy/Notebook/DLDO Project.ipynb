{
 "cells": [
  {
   "cell_type": "code",
   "execution_count": 1,
   "metadata": {},
   "outputs": [],
   "source": [
    "import numpy as np\n",
    "import matplotlib.pyplot as plt\n",
    "import matplotlib\n",
    "import torch\n",
    "import torch.nn as nn\n",
    "import torch.optim as optim\n",
    "import copy\n",
    "from torchsummary import summary\n",
    "import collections\n",
    "\n",
    "%matplotlib inline\n",
    "#%config InlineBackend.figure_format = 'svg'"
   ]
  },
  {
   "cell_type": "code",
   "execution_count": 2,
   "metadata": {},
   "outputs": [],
   "source": [
    "torch.cuda.empty_cache() # Run if the kernel starts dying, notebook doesn't clear automatically\n",
    "device = torch.device(\"cuda:0\" if torch.cuda.is_available() else \"cpu\")"
   ]
  },
  {
   "cell_type": "code",
   "execution_count": 3,
   "metadata": {},
   "outputs": [],
   "source": [
    "# Defined for flattening input image inside our model\n",
    "class Flatten(nn.Module):\n",
    "    def forward(self, x):\n",
    "        return x.view(x.shape[0], -1)"
   ]
  },
  {
   "cell_type": "code",
   "execution_count": 4,
   "metadata": {},
   "outputs": [],
   "source": [
    "def bound_propagation(model, initial_bound):\n",
    "    l, u = initial_bound\n",
    "    bounds = []\n",
    "    \n",
    "    for layer in model:\n",
    "        if isinstance(layer, Flatten):\n",
    "            l_ = Flatten()(l)\n",
    "            u_ = Flatten()(u)\n",
    "        elif isinstance(layer, nn.Linear):\n",
    "            l_ = (layer.weight.clamp(min=0) @ l.t() + layer.weight.clamp(max=0) @ u.t() \n",
    "                  + layer.bias[:,None]).t()\n",
    "            u_ = (layer.weight.clamp(min=0) @ u.t() + layer.weight.clamp(max=0) @ l.t() \n",
    "                  + layer.bias[:,None]).t()\n",
    "        elif isinstance(layer, nn.Conv2d):\n",
    "            l_ = (nn.functional.conv2d(l, layer.weight.clamp(min=0), bias=None, \n",
    "                                       stride=layer.stride, padding=layer.padding,\n",
    "                                       dilation=layer.dilation, groups=layer.groups) +\n",
    "                  nn.functional.conv2d(u, layer.weight.clamp(max=0), bias=None, \n",
    "                                       stride=layer.stride, padding=layer.padding,\n",
    "                                       dilation=layer.dilation, groups=layer.groups) +\n",
    "                  layer.bias[None,:,None,None])\n",
    "            \n",
    "            u_ = (nn.functional.conv2d(u, layer.weight.clamp(min=0), bias=None, \n",
    "                                       stride=layer.stride, padding=layer.padding,\n",
    "                                       dilation=layer.dilation, groups=layer.groups) +\n",
    "                  nn.functional.conv2d(l, layer.weight.clamp(max=0), bias=None, \n",
    "                                       stride=layer.stride, padding=layer.padding,\n",
    "                                       dilation=layer.dilation, groups=layer.groups) + \n",
    "                  layer.bias[None,:,None,None])\n",
    "            \n",
    "        elif isinstance(layer, nn.ReLU):\n",
    "            l_ = l.clamp(min=0)\n",
    "            u_ = u.clamp(min=0)\n",
    "            \n",
    "        bounds.append((l_, u_))\n",
    "        l,u = l_, u_\n",
    "    return bounds"
   ]
  },
  {
   "cell_type": "code",
   "execution_count": 5,
   "metadata": {},
   "outputs": [],
   "source": [
    "import cvxpy as cp\n",
    "\n",
    "def form_milp(model, c, initial_bounds, bounds):\n",
    "    linear_layers = [(layer, bound) for layer, bound in zip(model,bounds) if isinstance(layer, nn.Linear)]\n",
    "    d = len(linear_layers)-1\n",
    "    \n",
    "    # create cvxpy variables\n",
    "    z = ([cp.Variable(layer.in_features) for layer, _ in linear_layers] + \n",
    "         [cp.Variable(linear_layers[-1][0].out_features)])\n",
    "    v = [cp.Variable(layer.out_features, boolean=True) for layer, _ in linear_layers[:-1]]\n",
    "    \n",
    "    # extract relevant matrices\n",
    "    W = [layer.weight.detach().cpu().numpy() for layer,_ in linear_layers]\n",
    "    b = [layer.bias.detach().cpu().numpy() for layer,_ in linear_layers]\n",
    "    l = [l[0].detach().cpu().numpy() for _, (l,_) in linear_layers]\n",
    "    u = [u[0].detach().cpu().numpy() for _, (_,u) in linear_layers]\n",
    "    l0 = initial_bound[0][0].view(-1).detach().cpu().numpy()\n",
    "    u0 = initial_bound[1][0].view(-1).detach().cpu().numpy()\n",
    "    \n",
    "    # add ReLU constraints\n",
    "    constraints = []\n",
    "    for i in range(len(linear_layers)-1):\n",
    "        constraints += [z[i+1] >= W[i] @ z[i] + b[i], \n",
    "                        z[i+1] >= 0,\n",
    "                        cp.multiply(v[i], u[i]) >= z[i+1],\n",
    "                        W[i] @ z[i] + b[i] >= z[i+1] + cp.multiply((1-v[i]), l[i])]\n",
    "    \n",
    "    # final linear constraint\n",
    "    constraints += [z[d+1] == W[d] @ z[d] + b[d]]\n",
    "    \n",
    "    # initial bound constraints\n",
    "    constraints += [z[0] >= l0, z[0] <= u0]\n",
    "    \n",
    "    return cp.Problem(cp.Minimize(c @ z[d+1]), constraints), (z, v)"
   ]
  },
  {
   "cell_type": "code",
   "execution_count": 6,
   "metadata": {},
   "outputs": [],
   "source": [
    "from torchvision import datasets, transforms\n",
    "from torch.utils.data import DataLoader\n",
    "\n",
    "mnist_train = datasets.MNIST(\"../data\", train=True, download=True, transform=transforms.ToTensor())\n",
    "mnist_test = datasets.MNIST(\"../data\", train=False, download=True, transform=transforms.ToTensor())\n",
    "train_loader = DataLoader(mnist_train, batch_size = 100, shuffle=True)\n",
    "test_loader = DataLoader(mnist_test, batch_size = 100, shuffle=False)"
   ]
  },
  {
   "cell_type": "code",
   "execution_count": 7,
   "metadata": {},
   "outputs": [],
   "source": [
    "for X,y in test_loader:\n",
    "    X,y = X.to(device), y.to(device)\n",
    "    break"
   ]
  },
  {
   "cell_type": "code",
   "execution_count": 8,
   "metadata": {},
   "outputs": [],
   "source": [
    "class Model(nn.Module):\n",
    "    def __init__(self, module_list):\n",
    "        super(Model, self).__init__()\n",
    "        self.model = nn.ModuleList(module_list)\n",
    "\n",
    "    def __iter__(self):\n",
    "        ''' Returns the Iterator object '''\n",
    "        return iter(self.model)\n",
    "\n",
    "    def __len__(self):\n",
    "        return len(self.model)\n",
    "\n",
    "    def __getitem__(self, index):\n",
    "        return self.model[index]\n",
    "\n",
    "    def __setitem__(self, idx, value):\n",
    "        self.model[idx] = value\n",
    "\n",
    "    def register_backward_hooks(self):\n",
    "        for module_pt in self.model:\n",
    "            if hasattr(module_pt,'register_masking_hooks'):\n",
    "                module_pt.register_masking_hooks()\n",
    "    \n",
    "    def unregister_backward_hooks(self):\n",
    "        for module_pt in self.model:\n",
    "            if hasattr(module_pt,'unregister_masking_hooks'):\n",
    "                module_pt.unregister_masking_hooks()    \n",
    "\n",
    "    def forward(self, x):\n",
    "        for module_pt in self.model:\n",
    "            x = module_pt(x)\n",
    "        return x\n",
    "    \n",
    "    \n",
    "    \n",
    "class FullyConnectedBaselineModel(Model):\n",
    "    def __init__(self, name='FCBaseline', input_size=784, n_output_classes=10, n_channels=-1):\n",
    "        self.name = name\n",
    "        module_list = [\n",
    "            Flatten(), \n",
    "            nn.Linear(input_size, 50), \n",
    "            nn.ReLU(True),\n",
    "            nn.Linear(50, 20), \n",
    "            nn.ReLU(True),\n",
    "            nn.Linear(20, n_output_classes)\n",
    "        ]\n",
    "\n",
    "        super(FullyConnectedBaselineModel, self).__init__(module_list)"
   ]
  },
  {
   "cell_type": "code",
   "execution_count": 9,
   "metadata": {},
   "outputs": [],
   "source": [
    "PATH = '/Users/patrickherbert/Documents/Classes/Spring 2020/DL in DO/Project/mip-for-ann-master/experiments/FCBaseline/lr_2/epoch_20/dataset_0/optimizer_2/exp_4/'"
   ]
  },
  {
   "cell_type": "code",
   "execution_count": 10,
   "metadata": {},
   "outputs": [
    {
     "name": "stdout",
     "output_type": "stream",
     "text": [
      "----------------------------------------------------------------\n",
      "        Layer (type)               Output Shape         Param #\n",
      "================================================================\n",
      "           Flatten-1                  [-1, 784]               0\n",
      "            Linear-2                   [-1, 50]          39,250\n",
      "              ReLU-3                   [-1, 50]               0\n",
      "            Linear-4                   [-1, 20]           1,020\n",
      "              ReLU-5                   [-1, 20]               0\n",
      "            Linear-6                   [-1, 10]             210\n",
      "================================================================\n",
      "Total params: 40,480\n",
      "Trainable params: 40,480\n",
      "Non-trainable params: 0\n",
      "----------------------------------------------------------------\n",
      "Input size (MB): 0.00\n",
      "Forward/backward pass size (MB): 0.01\n",
      "Params size (MB): 0.15\n",
      "Estimated Total Size (MB): 0.16\n",
      "----------------------------------------------------------------\n"
     ]
    }
   ],
   "source": [
    "MODEL_PATH = PATH + 'FCBaseline.pt'\n",
    "model_info = torch.load(MODEL_PATH, map_location=torch.device('cpu'))\n",
    "model_state_dict = model_info.get(\"model_state_dict\")\n",
    "model = FullyConnectedBaselineModel()\n",
    "model.load_state_dict(model_state_dict)\n",
    "summary(model,(1,28,28))"
   ]
  },
  {
   "cell_type": "markdown",
   "metadata": {},
   "source": [
    "Below is the MaskedLinear class which we need to create in order to make a MaskedModel object and get the weights from that loaded into a normal model."
   ]
  },
  {
   "cell_type": "code",
   "execution_count": 11,
   "metadata": {},
   "outputs": [],
   "source": [
    "class MaskedLinear(nn.Module):\n",
    "    def __init__(self, in_dim, out_dim, indices_mask=None):\n",
    "        \"\"\"initialization of masked linear layer\n",
    "        \n",
    "        Arguments:\n",
    "            nn {[type]} -- [description]\n",
    "            in_dim {int} -- size of input features to linear layer\n",
    "            out_dim {int} -- size of output features \n",
    "        \n",
    "        Keyword Arguments:\n",
    "            indices_mask {list} --  list of two lists containing indices for dimensions 0 and 1, used to create the mask, dimension 0 in_dim and dimension 1 out dim which is n neurons (default: {None})\n",
    "        \"\"\"        \n",
    "        super(MaskedLinear, self).__init__()\n",
    "        if indices_mask is not None:\n",
    "            self.mask_neurons(indices_mask)\n",
    "        self.name = 'linear'\n",
    "        self.linear = nn.Linear(in_dim, out_dim)\n",
    "        self.in_features = self.linear.in_features\n",
    "        self.out_features = self.linear.out_features\n",
    "        self.output_size = self.out_features\n",
    "        self.input_size = self.in_features\n",
    "        self.handle = None\n",
    "        self.has_indices_mask = False\n",
    "\n",
    "    @staticmethod\n",
    "    def copy_layer(linear_layer, input_size=-1):\n",
    "        \"\"\"clone a pytorch linear layer\n",
    "        \n",
    "        Arguments:\n",
    "            linear_layer {nn.Linear} -- linear layer that would be cloned into MaskedLinear Object\n",
    "        \n",
    "        Keyword Arguments:\n",
    "            input_size {int} -- size of input (default: {-1})\n",
    "        \n",
    "        Returns:\n",
    "            MaskedConv -- returns a cloned MaskedConv object of the pytorch layer\n",
    "        \"\"\"        \n",
    "        new_layer = MaskedLinear(\n",
    "            linear_layer.in_features, linear_layer.out_features)\n",
    "        # copy weights to the new layer\n",
    "        new_layer.linear.weight.data = copy.deepcopy(linear_layer.weight.data)\n",
    "        new_layer.linear.bias.data = copy.deepcopy(linear_layer.bias.data)\n",
    "        return new_layer\n",
    "\n",
    "    def mask_neurons(self, indices_mask):\n",
    "        \"\"\"mask neurons on the output dimension of the Linear layer based on input indices\n",
    "        \n",
    "        Arguments:\n",
    "            indices_mask {list} -- list of indices of parameters to be masked in Linear layer\n",
    "        \"\"\"        \n",
    "        if len(indices_mask) > 0:\n",
    "            self.has_indices_mask = True\n",
    "        self.mask = torch.zeros([self.out_features, self.in_features]).bool()\n",
    "        if indices_mask.ndim == 1:\n",
    "            self.mask[indices_mask, :] = 1\n",
    "        else:\n",
    "            self.mask[indices_mask] = 1  # create mask\n",
    "        self.mask_cached_neurons()\n",
    "\n",
    "    def mask_cached_neurons(self):\n",
    "        \"\"\"\n",
    "        set masked weights to zero\n",
    "        \"\"\"        \n",
    "        if self.has_indices_mask:\n",
    "            self.linear.weight.data[self.mask] = 0\n",
    "\n",
    "    def backward_hook(self, grad):\n",
    "        \"\"\"\n",
    "        a callback backward hook called by pytorch during gradient computation\n",
    "        \n",
    "        Arguments:\n",
    "            grad {tensor} -- gradients of the parameter that pytorch registered this hook on\n",
    "        \n",
    "        Returns:\n",
    "            [tensor] -- updated gradients\n",
    "        \"\"\"  \n",
    "        # Clone due to not being allowed to modify in-place gradients\n",
    "        out = grad.clone()\n",
    "        out[self.mask] = 0\n",
    "        return out\n",
    "\n",
    "    def register_masking_hooks(self):\n",
    "        \"\"\"\n",
    "        register backward hook on convolutional weights for backprop through a sparse model\n",
    "        \"\"\"   \n",
    "        if self.has_indices_mask and self.handle is None:\n",
    "            self.handle = self.linear.weight.register_hook(self.backward_hook)\n",
    "\n",
    "    def unregister_masking_hooks(self):\n",
    "        \"\"\"\n",
    "        unregister an existing masking hooks after finishing trainingbecause hooks would make predictions slower\n",
    "        \"\"\"  \n",
    "        if self.handle is not None:\n",
    "            self.handle.remove()\n",
    "\n",
    "    def forward(self, x):\n",
    "        \"\"\"\n",
    "        forward pass on input\n",
    "        \n",
    "        Arguments:\n",
    "            input {Tensor} -- input image that will pass through linear layer\n",
    "        \n",
    "        Returns:\n",
    "            tensor -- Linear layer output\n",
    "        \"\"\"  \n",
    "        x = self.linear(x)\n",
    "        if self.has_indices_mask:\n",
    "            assert (self.linear.weight.data[self.mask] == 0).all()\n",
    "        return x"
   ]
  },
  {
   "cell_type": "markdown",
   "metadata": {},
   "source": [
    "Then we define a new masked model object to load this into so that we can get the linear weights out. "
   ]
  },
  {
   "cell_type": "code",
   "execution_count": 12,
   "metadata": {},
   "outputs": [],
   "source": [
    "class MaskedFCBM(Model):\n",
    "    def __init__(self, name='MaskedFCBM', input_size=784, n_output_classes=10, n_channels=-1):\n",
    "        self.name = name\n",
    "        module_list = [\n",
    "            Flatten(), \n",
    "            MaskedLinear(input_size, 50), \n",
    "            nn.ReLU(True),\n",
    "            MaskedLinear(50, 20), \n",
    "            nn.ReLU(True),\n",
    "            MaskedLinear(20, n_output_classes)\n",
    "        ]\n",
    "\n",
    "        super(MaskedFCBM, self).__init__(module_list)"
   ]
  },
  {
   "cell_type": "code",
   "execution_count": 13,
   "metadata": {},
   "outputs": [
    {
     "name": "stdout",
     "output_type": "stream",
     "text": [
      "----------------------------------------------------------------\n",
      "        Layer (type)               Output Shape         Param #\n",
      "================================================================\n",
      "           Flatten-1                  [-1, 784]               0\n",
      "            Linear-2                   [-1, 50]          39,250\n",
      "      MaskedLinear-3                   [-1, 50]               0\n",
      "              ReLU-4                   [-1, 50]               0\n",
      "            Linear-5                   [-1, 20]           1,020\n",
      "      MaskedLinear-6                   [-1, 20]               0\n",
      "              ReLU-7                   [-1, 20]               0\n",
      "            Linear-8                   [-1, 10]             210\n",
      "      MaskedLinear-9                   [-1, 10]               0\n",
      "================================================================\n",
      "Total params: 40,480\n",
      "Trainable params: 40,480\n",
      "Non-trainable params: 0\n",
      "----------------------------------------------------------------\n",
      "Input size (MB): 0.00\n",
      "Forward/backward pass size (MB): 0.01\n",
      "Params size (MB): 0.15\n",
      "Estimated Total Size (MB): 0.17\n",
      "----------------------------------------------------------------\n"
     ]
    }
   ],
   "source": [
    "MASK_PATH = PATH + 'FCBaseline_MASK_model_finetuned.pt'\n",
    "#MASK_PATH = PATH + 'FCBaseline_MASK.pt'\n",
    "mask_model_info = torch.load(MASK_PATH, map_location=torch.device('cpu'))\n",
    "mask_state_dict = mask_model_info.get(\"model_state_dict\")\n",
    "masked_model = MaskedFCBM()\n",
    "masked_model.load_state_dict(mask_state_dict)\n",
    "summary(masked_model,(1,28,28))"
   ]
  },
  {
   "cell_type": "markdown",
   "metadata": {},
   "source": [
    "Removing the linear part of the saved weights"
   ]
  },
  {
   "cell_type": "code",
   "execution_count": 14,
   "metadata": {},
   "outputs": [
    {
     "data": {
      "text/plain": [
       "<All keys matched successfully>"
      ]
     },
     "execution_count": 14,
     "metadata": {},
     "output_type": "execute_result"
    }
   ],
   "source": [
    "d = collections.OrderedDict()\n",
    "for name, param in masked_model.named_parameters():\n",
    "    if param.requires_grad:\n",
    "        name = name.replace(\".linear\", \"\")\n",
    "        d[name] = param.data\n",
    "new_masked_model = FullyConnectedBaselineModel() # Loads masked weights into a normal FCBM model\n",
    "new_masked_model.load_state_dict(d)"
   ]
  },
  {
   "cell_type": "markdown",
   "metadata": {},
   "source": [
    "In this section you can play around with different variable values for the MIP program and change values to mess with individual images and run them on the trained model. The index of the maximum value in the resulting array corresponds to the predicted image label. Here we should be able to see a slight difference in the predicted values for each of the different models."
   ]
  },
  {
   "cell_type": "code",
   "execution_count": 67,
   "metadata": {},
   "outputs": [],
   "source": [
    "epsilon = 0.1 # Change how much the pixels can change in order to create an adversarial example\n",
    "im_num = 2    # Change which test image we're accessing (i = 0,...,99)\n",
    "new_label = 5 # Set the label for which we want to find an adversarial example for im_num, 0 for 0 and so on up to 9"
   ]
  },
  {
   "cell_type": "code",
   "execution_count": 68,
   "metadata": {},
   "outputs": [
    {
     "data": {
      "image/png": "[encoded data removed]",
      "text/plain": [
       "<Figure size 432x288 with 1 Axes>"
      ]
     },
     "metadata": {
      "needs_background": "light"
     },
     "output_type": "display_data"
    }
   ],
   "source": [
    "matplotlib.pyplot.imshow(1-X[im_num][0].cpu().numpy(), cmap='gray');"
   ]
  },
  {
   "cell_type": "code",
   "execution_count": 49,
   "metadata": {},
   "outputs": [
    {
     "data": {
      "text/plain": [
       "tensor([[-9.2966, 12.4353,  0.8562, -2.1959,  1.8975,  0.5165, -5.8936,  0.6549,\n",
       "          1.1780, -1.6546]], grad_fn=<AddmmBackward>)"
      ]
     },
     "execution_count": 49,
     "metadata": {},
     "output_type": "execute_result"
    }
   ],
   "source": [
    "test_data = X[im_num:im_num+1][0]\n",
    "model(test_data)"
   ]
  },
  {
   "cell_type": "code",
   "execution_count": 50,
   "metadata": {},
   "outputs": [
    {
     "data": {
      "text/plain": [
       "tensor([[-10.2658,  11.9540,   0.3126,  -1.5795,   2.3502,  -1.1299,  -6.5017,\n",
       "           1.7842,   1.4604,  -1.0644]], grad_fn=<AddmmBackward>)"
      ]
     },
     "execution_count": 50,
     "metadata": {},
     "output_type": "execute_result"
    }
   ],
   "source": [
    "new_masked_model(test_data)"
   ]
  },
  {
   "cell_type": "markdown",
   "metadata": {},
   "source": [
    "And then set it up the problem to feed into Gurobi"
   ]
  },
  {
   "cell_type": "code",
   "execution_count": 56,
   "metadata": {},
   "outputs": [],
   "source": [
    "initial_bound = ((X[im_num:im_num + 1] - epsilon).clamp(min=0), (X[im_num:im_num + 1] + epsilon).clamp(max=1))\n",
    "bounds_m = bound_propagation(new_masked_model, initial_bound) # Change model to masked_model or vice versa\n",
    "bounds = bound_propagation(model, initial_bound) \n",
    "\n",
    "c = np.zeros(10)        # Creating the objective function for the MIP\n",
    "c[y[im_num].item()] = 1 # y is the correct label for the image selected, setting it to 1 minimzes it in the O.F.\n",
    "c[new_label] = -1       # Maximize the incorrect label we set above in the O.F.\n",
    "\n",
    "\n",
    "prob, (z, v) = form_milp(model, c, initial_bound, bounds) # Change model to masked_model or vice versa\n",
    "prob_m, (z_m, v_m) = form_milp(new_masked_model, c, initial_bound, bounds_m)"
   ]
  },
  {
   "cell_type": "markdown",
   "metadata": {},
   "source": [
    "Solve MIP to find an adversarial example, if the O.F.V is negative then we have successfully found one. "
   ]
  },
  {
   "cell_type": "code",
   "execution_count": 57,
   "metadata": {},
   "outputs": [
    {
     "name": "stdout",
     "output_type": "stream",
     "text": [
      "Parameter OutputFlag unchanged\n",
      "   Value: 1  Min: 0  Max: 1  Default: 1\n",
      "Changed value of parameter QCPDual to 1\n",
      "   Prev: 0  Min: 0  Max: 1  Default: 0\n",
      "Gurobi Optimizer version 9.0.1 build v9.0.1rc0 (mac64)\n",
      "Optimize a model with 1858 rows, 934 columns and 82598 nonzeros\n",
      "Model fingerprint: 0xf6d93b33\n",
      "Variable types: 864 continuous, 70 integer (70 binary)\n",
      "Coefficient statistics:\n",
      "  Matrix range     [7e-06, 5e+01]\n",
      "  Objective range  [1e+00, 1e+00]\n",
      "  Bounds range     [1e+00, 1e+00]\n",
      "  RHS range        [2e-03, 4e+01]\n",
      "Presolve removed 1649 rows and 10 columns\n",
      "Presolve time: 0.08s\n",
      "Presolved: 209 rows, 924 columns, 78358 nonzeros\n",
      "Variable types: 855 continuous, 69 integer (69 binary)\n",
      "\n",
      "Root relaxation: objective -1.204697e+02, 157 iterations, 0.01 seconds\n",
      "\n",
      "    Nodes    |    Current Node    |     Objective Bounds      |     Work\n",
      " Expl Unexpl |  Obj  Depth IntInf | Incumbent    BestBd   Gap | It/Node Time\n",
      "\n",
      "     0     0 -120.46973    0   40          - -120.46973      -     -    0s\n",
      "     0     0 -116.38505    0   39          - -116.38505      -     -    0s\n",
      "     0     0 -112.83119    0   41          - -112.83119      -     -    0s\n",
      "     0     0 -112.82060    0   41          - -112.82060      -     -    0s\n",
      "     0     0 -105.06509    0   44          - -105.06509      -     -    0s\n",
      "H    0     0                     -24.4499875 -105.06509   330%     -    0s\n",
      "     0     0 -104.25305    0   45  -24.44999 -104.25305   326%     -    0s\n",
      "     0     0  -94.96989    0   44  -24.44999  -94.96989   288%     -    0s\n",
      "     0     0  -94.96989    0   44  -24.44999  -94.96989   288%     -    0s\n",
      "     0     0  -80.44102    0   47  -24.44999  -80.44102   229%     -    0s\n",
      "H    0     0                     -26.3739694  -80.44102   205%     -    0s\n",
      "H    0     0                     -26.9995349  -80.44102   198%     -    0s\n",
      "     0     0  -80.44102    0   47  -26.99953  -80.44102   198%     -    0s\n",
      "     0     0  -79.93427    0   49  -26.99953  -79.93427   196%     -    1s\n",
      "     0     0  -79.93427    0   50  -26.99953  -79.93427   196%     -    1s\n",
      "     0     0  -79.93427    0   50  -26.99953  -79.93427   196%     -    1s\n",
      "     0     0  -78.64161    0   49  -26.99953  -78.64161   191%     -    1s\n",
      "     0     0  -78.64161    0   49  -26.99953  -78.64161   191%     -    1s\n",
      "     0     2  -78.64161    0   49  -26.99953  -78.64161   191%     -    2s\n",
      "   468   283  -27.62915   14   18  -26.99953  -58.95946   118%   101    5s\n",
      "  1650   730  -33.08852   14   23  -26.99953  -45.40136  68.2%  84.4   10s\n",
      "* 1746   769              34     -27.0286717  -44.85134  65.9%  83.2   10s\n",
      "* 2315   832              36     -28.0307274  -42.88844  53.0%  80.2   12s\n",
      "  3019   981     cutoff   18       -28.03073  -41.13775  46.8%  76.0   15s\n",
      "* 3982  1115              48     -28.3157932  -40.87806  44.4%  65.3   19s\n",
      "  4361  1176  -29.64214   25   21  -28.31579  -40.87806  44.4%  62.1   20s\n",
      "H 4612  1138                     -28.4026187  -40.87806  43.9%  60.1   20s\n",
      "  9253  2153  -30.10404   28   19  -28.40262  -40.87806  43.9%  43.1   25s\n",
      " 16212  3272  -31.68704   34   17  -28.40262  -39.26935  38.3%  35.3   30s\n",
      " 20648  3637  -30.98329   28   49  -28.40262  -37.61820  32.4%  33.0   54s\n",
      " 20656  3642  -31.04830   33   48  -28.40262  -37.61820  32.4%  33.0   55s\n",
      " 20663  3647  -35.71856   29   46  -28.40262  -37.61820  32.4%  33.0   60s\n",
      " 20670  3652  -32.93554   33   46  -28.40262  -37.61820  32.4%  32.9   65s\n",
      " 20675  3655  -35.67373   29   46  -28.40262  -37.61820  32.4%  32.9   70s\n",
      " 20680  3658  -36.70997   32   52  -28.40262  -37.61820  32.4%  32.9   75s\n",
      " 20684  3661  -30.48041   33   53  -28.40262  -37.61820  32.4%  32.9   80s\n",
      " 20687  3663  -34.23082   30   52  -28.40262  -37.61820  32.4%  32.9   85s\n",
      " 20691  3666  -31.32105   33   52  -28.40262  -37.61820  32.4%  32.9   92s\n",
      " 20693  3667  -33.69442   32   52  -28.40262  -37.61820  32.4%  32.9   96s\n",
      " 20695  3668  -36.68719   32   52  -28.40262  -37.61820  32.4%  32.9  100s\n",
      " 20697  3670  -29.95453   34   52  -28.40262  -37.61820  32.4%  32.9  105s\n",
      " 20700  3672  -37.02115   27   52  -28.40262  -37.61820  32.4%  32.9  110s\n",
      " 20703  3674  -35.79868   32   52  -28.40262  -37.61820  32.4%  32.9  116s\n",
      " 20706  3676  -32.79453   35   52  -28.40262  -37.61820  32.4%  32.9  122s\n",
      " 20708  3677  -32.95417   30   52  -28.40262  -37.61820  32.4%  32.9  125s\n",
      " 20710  3678  -37.33163   26   53  -28.40262  -37.61820  32.4%  32.9  130s\n",
      " 20713  3680  -35.47342   34   53  -28.40262  -37.61820  32.4%  32.9  136s\n",
      " 20715  3682  -35.02819   34   53  -28.40262  -37.61820  32.4%  32.9  141s\n",
      " 20718  3684  -30.31308   38   53  -28.40262  -37.61820  32.4%  32.9  146s\n",
      " 20720  3685  -30.91753   26   53  -28.40262  -37.61820  32.4%  32.9  150s\n",
      " 20722  3686  -33.72562   31   52  -28.40262  -37.61820  32.4%  32.9  155s\n",
      " 20724  3688  -37.02749   28   51  -28.40262  -37.61820  32.4%  32.9  160s\n",
      " 20726  3689  -34.60635   31   52  -28.40262  -37.61820  32.4%  32.9  165s\n",
      " 20729  3691  -34.08595   34   52  -28.40262  -37.61820  32.4%  32.9  170s\n",
      " 20732  3693  -35.72431   32   52  -28.40262  -37.61820  32.4%  32.8  176s\n",
      " 20734  3694  -31.76496   36   52  -28.40262  -37.61820  32.4%  32.8  180s\n",
      " 20735  3695  -29.27799   36   53  -28.40262  -37.61820  32.4%  32.8  187s\n",
      " 20737  3696  -36.29355   29   52  -28.40262  -37.61820  32.4%  32.8  192s\n",
      " 20739  3698  -31.62649   35   52  -28.40262  -37.61820  32.4%  32.8  196s\n",
      " 20741  3699  -33.75926   30   53  -28.40262  -37.61820  32.4%  32.8  200s\n",
      " 20743  3700  -30.79689   37   53  -28.40262  -37.61820  32.4%  32.8  205s\n",
      " 20745  3702  -31.31554   32   53  -28.40262  -37.61820  32.4%  32.8  212s\n",
      " 20746  3702  -36.79122   27   52  -28.40262  -37.61820  32.4%  32.8  215s\n",
      " 20748  3704  -30.98329   28   52  -28.40262  -37.61820  32.4%  32.8  221s\n",
      " 20750  3705  -36.10199   31   52  -28.40262  -37.61820  32.4%  32.8  225s\n",
      " 20753  3707  -30.71954   33   52  -28.40262  -37.61820  32.4%  32.8  231s\n",
      " 20755  3708  -29.93082   39   52  -28.40262  -37.61820  32.4%  32.8  235s\n",
      " 20758  3710  -29.98086   34   53  -28.40262  -37.61820  32.4%  32.8  241s\n",
      " 20760  3712  -35.52058   32   53  -28.40262  -37.61820  32.4%  32.8  246s\n",
      " 20762  3713  -31.68703   33   53  -28.40262  -37.61820  32.4%  32.8  252s\n",
      " 20764  3714  -33.75615   35   53  -28.40262  -37.61820  32.4%  32.8  255s\n",
      " 20767  3716  -35.16707   32   53  -28.40262  -37.61820  32.4%  32.8  261s\n",
      " 20769  3718  -33.71063   31   53  -28.40262  -37.61820  32.4%  32.8  265s\n",
      " 20771  3719  -28.83342   32   53  -28.40262  -37.61820  32.4%  32.8  270s\n",
      " 20773  3720  -35.47645   33   52  -28.40262  -37.61820  32.4%  32.8  276s\n",
      " 20775  3722  -35.67373   29   53  -28.40262  -37.61820  32.4%  32.8  281s\n",
      " 20777  3723  -32.60357   38   53  -28.40262  -37.61820  32.4%  32.8  285s\n",
      " 20780  3725  -36.70997   32   53  -28.40262  -37.61820  32.4%  32.8  291s\n",
      " 20783  3727  -29.72683   38   52  -28.40262  -37.61820  32.4%  32.8  297s\n",
      " 20785  3728  -30.47130   34   52  -28.40262  -37.61820  32.4%  32.8  301s\n",
      " 20787  3730  -34.23082   30   52  -28.40262  -37.61820  32.4%  32.8  308s\n",
      " 20788  3730  -33.74636   37   52  -28.40262  -37.61820  32.4%  32.8  310s\n",
      " 20790  3732  -36.20477   32   52  -28.40262  -37.61820  32.4%  32.8  316s\n",
      " 20791  3732  -31.32105   33   52  -28.40262  -37.61820  32.4%  32.8  321s\n",
      " 20793  3734  -33.69442   32   52  -28.40262  -37.61820  32.4%  32.8  325s\n",
      " 20796  3736  -35.67372   31   52  -28.40262  -37.61820  32.4%  32.7  331s\n",
      " 20798  3737  -37.26904   29   52  -28.40262  -37.61820  32.4%  32.7  335s\n",
      " 20801  3739  -34.78784   30   52  -28.40262  -37.61820  32.4%  32.7  341s\n",
      " 20803  3740  -35.79868   32   52  -28.40262  -37.61820  32.4%  32.7  345s\n",
      " 20805  3742  -31.56678   34   52  -28.40262  -37.61820  32.4%  32.7  350s\n",
      " 20807  3743  -31.68610   33   52  -28.40262  -37.61820  32.4%  32.7  355s\n",
      " 20809  3744  -34.73122   33   52  -28.40262  -37.61820  32.4%  32.7  363s\n",
      " 20810  3745  -37.33163   26   52  -28.40262  -37.61820  32.4%  32.7  367s\n",
      " 20811  3746  -35.38951   24   52  -28.40262  -37.61820  32.4%  32.7  370s\n",
      " 20813  3747  -35.47342   34   52  -28.40262  -37.61820  32.4%  32.7  376s\n",
      " 20815  3748  -35.02819   34   52  -28.40262  -37.61820  32.4%  32.7  380s\n",
      " 20818  3750  -30.31308   38   52  -28.40262  -37.61820  32.4%  32.7  387s\n",
      " 20819  3751  -28.51689   32   52  -28.40262  -37.61820  32.4%  32.7  390s\n"
     ]
    },
    {
     "name": "stdout",
     "output_type": "stream",
     "text": [
      " 20821  3752  -37.28388   26   52  -28.40262  -37.61820  32.4%  32.7  397s\n",
      " 20822  3753  -33.72562   31   52  -28.40262  -37.61820  32.4%  32.7  400s\n",
      " 20824  3754  -37.02749   28   52  -28.40262  -37.61820  32.4%  32.7  406s\n",
      " 20826  3756  -34.60635   31   52  -28.40262  -37.61820  32.4%  32.7  412s\n",
      "\n",
      "Cutting planes:\n",
      "  Gomory: 2\n",
      "  Projected implied bound: 393\n",
      "  MIR: 111\n",
      "  Flow cover: 103\n",
      "  Relax-and-lift: 3\n",
      "\n",
      "Explored 20826 nodes (808488 simplex iterations) in 413.39 seconds\n",
      "Thread count was 8 (of 8 available processors)\n",
      "\n",
      "Solution count 7: -28.4026 -28.3158 -28.0307 ... -24.45\n",
      "\n",
      "Solve interrupted\n",
      "Best objective -2.840261867857e+01, best bound -3.761820276055e+01, gap 32.4462%\n"
     ]
    },
    {
     "data": {
      "text/plain": [
       "-28.40261867857003"
      ]
     },
     "execution_count": 57,
     "metadata": {},
     "output_type": "execute_result"
    }
   ],
   "source": [
    "prob.solve(solver=cp.GUROBI, verbose=True) # Solve normal model"
   ]
  },
  {
   "cell_type": "markdown",
   "metadata": {},
   "source": [
    "Now we can plot the perturbed image that we found to see what it looks like.\n"
   ]
  },
  {
   "cell_type": "code",
   "execution_count": 58,
   "metadata": {},
   "outputs": [
    {
     "data": {
      "image/png": "[encoded data removed]",
      "text/plain": [
       "<Figure size 432x288 with 1 Axes>"
      ]
     },
     "metadata": {
      "needs_background": "light"
     },
     "output_type": "display_data"
    }
   ],
   "source": [
    "plt.imshow(1-z[0].value.reshape(28,28), cmap=\"gray\");"
   ]
  },
  {
   "cell_type": "code",
   "execution_count": 59,
   "metadata": {},
   "outputs": [
    {
     "name": "stdout",
     "output_type": "stream",
     "text": [
      "Parameter OutputFlag unchanged\n",
      "   Value: 1  Min: 0  Max: 1  Default: 1\n",
      "Changed value of parameter QCPDual to 1\n",
      "   Prev: 0  Min: 0  Max: 1  Default: 0\n",
      "Gurobi Optimizer version 9.0.1 build v9.0.1rc0 (mac64)\n",
      "Optimize a model with 1858 rows, 934 columns and 79462 nonzeros\n",
      "Model fingerprint: 0xd2270a66\n",
      "Variable types: 864 continuous, 70 integer (70 binary)\n",
      "Coefficient statistics:\n",
      "  Matrix range     [6e-06, 5e+01]\n",
      "  Objective range  [1e+00, 1e+00]\n",
      "  Bounds range     [1e+00, 1e+00]\n",
      "  RHS range        [2e-03, 4e+01]\n",
      "Presolve removed 1657 rows and 16 columns\n",
      "Presolve time: 0.09s\n",
      "Presolved: 201 rows, 918 columns, 75911 nonzeros\n",
      "Variable types: 851 continuous, 67 integer (67 binary)\n",
      "\n",
      "Root relaxation: objective -1.220040e+02, 165 iterations, 0.01 seconds\n",
      "\n",
      "    Nodes    |    Current Node    |     Objective Bounds      |     Work\n",
      " Expl Unexpl |  Obj  Depth IntInf | Incumbent    BestBd   Gap | It/Node Time\n",
      "\n",
      "     0     0 -122.00402    0   39          - -122.00402      -     -    0s\n",
      "     0     0 -117.54048    0   39          - -117.54048      -     -    0s\n",
      "     0     0 -114.36576    0   37          - -114.36576      -     -    0s\n",
      "     0     0 -114.35770    0   37          - -114.35770      -     -    0s\n",
      "     0     0 -114.35770    0   37          - -114.35770      -     -    0s\n",
      "     0     0 -107.31638    0   42          - -107.31638      -     -    0s\n",
      "     0     0 -106.37078    0   44          - -106.37078      -     -    0s\n",
      "     0     0 -106.30326    0   43          - -106.30326      -     -    0s\n",
      "H    0     0                     -25.0737825 -106.30326   324%     -    0s\n",
      "     0     0 -106.30254    0   43  -25.07378 -106.30254   324%     -    0s\n",
      "     0     0  -80.25994    0   44  -25.07378  -80.25994   220%     -    0s\n",
      "     0     0  -80.25994    0   43  -25.07378  -80.25994   220%     -    1s\n",
      "     0     0  -80.25994    0   47  -25.07378  -80.25994   220%     -    1s\n",
      "     0     0  -80.25994    0   47  -25.07378  -80.25994   220%     -    1s\n",
      "     0     0  -80.25994    0   47  -25.07378  -80.25994   220%     -    1s\n",
      "H    0     0                     -26.3521556  -80.25994   205%     -    1s\n",
      "H    0     0                     -26.7096565  -80.25994   200%     -    1s\n",
      "     0     0  -79.37032    0   47  -26.70966  -79.37032   197%     -    1s\n",
      "     0     0  -79.37032    0   47  -26.70966  -79.37032   197%     -    2s\n",
      "     0     2  -79.37032    0   47  -26.70966  -79.37032   197%     -    2s\n",
      "   285   193  -27.25393   24    9  -26.70966  -64.84534   143%   132    5s\n",
      "  1064   448  -42.75826   10   29  -26.70966  -47.64129  78.4%   114   10s\n",
      "  1916   698  -26.82353   16   15  -26.70966  -43.95300  64.6%  97.7   15s\n",
      "  2965   979  -32.26469   12   21  -26.70966  -40.93774  53.3%  89.0   20s\n",
      "  3127   985  -32.06213   11   47  -26.70966  -40.81435  52.8%  87.6   25s\n",
      "  3159  1012  -33.75846   16   31  -26.70966  -40.81435  52.8%  90.8   30s\n",
      "H 3269  1011                     -26.9083351  -40.81435  51.7%  92.3   30s\n",
      "H 3316   982                     -27.5942462  -40.81435  47.9%  92.0   31s\n",
      "  4171   965  -38.85221   21   25  -27.59425  -40.81435  47.9%  90.8   35s\n",
      "  5341   791     cutoff   26       -27.59425  -40.81435  47.9%  86.2   40s\n",
      "  6348   765  -31.03716   21   21  -27.59425  -39.64774  43.7%  83.3   45s\n",
      "  7970   866  -32.63129   25   16  -27.59425  -37.59211  36.2%  78.2   50s\n",
      "  9759   994  -29.70923   29   17  -27.59425  -35.61626  29.1%  73.7   55s\n",
      " 11859   956  -27.84142   25   21  -27.59425  -34.16434  23.8%  69.2   61s\n",
      " 13966   794     cutoff   28       -27.59425  -32.78253  18.8%  65.8   65s\n",
      " 16135   539  -27.71482   32   14  -27.59425  -31.33327  13.6%  61.5   70s\n",
      "\n",
      "Cutting planes:\n",
      "  Projected implied bound: 49\n",
      "  MIR: 169\n",
      "  Flow cover: 23\n",
      "  Relax-and-lift: 3\n",
      "\n",
      "Explored 18455 nodes (1047372 simplex iterations) in 73.44 seconds\n",
      "Thread count was 8 (of 8 available processors)\n",
      "\n",
      "Solution count 5: -27.5942 -26.9083 -26.7097 ... -25.0738\n",
      "No other solutions better than -27.5942\n",
      "\n",
      "Optimal solution found (tolerance 1.00e-04)\n",
      "Best objective -2.759424622502e+01, best bound -2.759424622502e+01, gap 0.0000%\n"
     ]
    },
    {
     "data": {
      "text/plain": [
       "-27.59424622501823"
      ]
     },
     "execution_count": 59,
     "metadata": {},
     "output_type": "execute_result"
    }
   ],
   "source": [
    "prob_m.solve(solver=cp.GUROBI, verbose=True) # Solve masked model"
   ]
  },
  {
   "cell_type": "code",
   "execution_count": 62,
   "metadata": {},
   "outputs": [
    {
     "data": {
      "image/png": "[encoded data removed]",
      "text/plain": [
       "<Figure size 432x288 with 1 Axes>"
      ]
     },
     "metadata": {
      "needs_background": "light"
     },
     "output_type": "display_data"
    }
   ],
   "source": [
    "plt.imshow(1-z_m[0].value.reshape(28,28), cmap=\"gray\");"
   ]
  },
  {
   "cell_type": "markdown",
   "metadata": {},
   "source": [
    "Finally, we run the perturbed image through the trained model as a sanity check to validate the results we found. "
   ]
  },
  {
   "cell_type": "code",
   "execution_count": 63,
   "metadata": {},
   "outputs": [
    {
     "data": {
      "text/plain": [
       "tensor([[-15.5762,  -4.7535,  -6.8995,  10.0819,  -9.0895,  23.6491,   7.0851,\n",
       "           2.4542,   6.9296,  -2.5455]], grad_fn=<AddmmBackward>)"
      ]
     },
     "execution_count": 63,
     "metadata": {},
     "output_type": "execute_result"
    }
   ],
   "source": [
    "perturbed_data = torch.tensor(z[0].value).float()\n",
    "perturbed_data = perturbed_data.view(1,28,-1)\n",
    "model(perturbed_data) # Print perturbed normal model results"
   ]
  },
  {
   "cell_type": "code",
   "execution_count": 64,
   "metadata": {},
   "outputs": [
    {
     "data": {
      "text/plain": [
       "tensor([[-13.1375,  -5.1264,  -7.7495,   7.9503,  -7.9970,  22.9326,   7.8789,\n",
       "           1.9800,   6.4039,  -1.8912]], grad_fn=<AddmmBackward>)"
      ]
     },
     "execution_count": 64,
     "metadata": {},
     "output_type": "execute_result"
    }
   ],
   "source": [
    "perturbed_data = torch.tensor(z_m[0].value).float()\n",
    "perturbed_data = perturbed_data.view(1,28,-1)\n",
    "model(perturbed_data) # Print perturbed masked model results"
   ]
  },
  {
   "cell_type": "markdown",
   "metadata": {},
   "source": [
    "## To-Do List:\n",
    "- Evalute accuracy of both models on the test set\n",
    "- Find subset of images that fool the pruned model but not the original model or maybe vice versa\n",
    "- Make models with different levels of sparsity and see how that affects the MIP result (difference of prob), MIP running time\n",
    "- Print out all the adversarial examples found by the MIP not just the optimal one"
   ]
  },
  {
   "cell_type": "code",
   "execution_count": null,
   "metadata": {},
   "outputs": [],
   "source": []
  }
 ],
 "metadata": {
  "kernelspec": {
   "display_name": "Python 3",
   "language": "python",
   "name": "python3"
  },
  "language_info": {
   "codemirror_mode": {
    "name": "ipython",
    "version": 3
   },
   "file_extension": ".py",
   "mimetype": "text/x-python",
   "name": "python",
   "nbconvert_exporter": "python",
   "pygments_lexer": "ipython3",
   "version": "3.7.4"
  }
 },
 "nbformat": 4,
 "nbformat_minor": 2
}
