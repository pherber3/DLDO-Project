{
 "cells": [
  {
   "cell_type": "code",
   "execution_count": 1,
   "metadata": {},
   "outputs": [],
   "source": [
    "import numpy as np\n",
    "import matplotlib.pyplot as plt\n",
    "import matplotlib\n",
    "import torch\n",
    "import torch.nn as nn\n",
    "import torch.optim as optim\n",
    "import copy\n",
    "from torchsummary import summary\n",
    "import collections\n",
    "\n",
    "%matplotlib inline\n",
    "#%config InlineBackend.figure_format = 'svg'"
   ]
  },
  {
   "cell_type": "code",
   "execution_count": 2,
   "metadata": {},
   "outputs": [],
   "source": [
    "torch.cuda.empty_cache() # Run if the kernel starts dying, notebook doesn't clear automatically\n",
    "device = torch.device(\"cuda:0\" if torch.cuda.is_available() else \"cpu\")"
   ]
  },
  {
   "cell_type": "code",
   "execution_count": 3,
   "metadata": {},
   "outputs": [],
   "source": [
    "# Defined for flattening input image inside our model\n",
    "class Flatten(nn.Module):\n",
    "    def forward(self, x):\n",
    "        return x.view(x.shape[0], -1)"
   ]
  },
  {
   "cell_type": "code",
   "execution_count": 4,
   "metadata": {},
   "outputs": [],
   "source": [
    "def bound_propagation(model, initial_bound):\n",
    "    l, u = initial_bound\n",
    "    bounds = []\n",
    "    \n",
    "    for layer in model:\n",
    "        if isinstance(layer, Flatten):\n",
    "            l_ = Flatten()(l)\n",
    "            u_ = Flatten()(u)\n",
    "        elif isinstance(layer, nn.Linear):\n",
    "            l_ = (layer.weight.clamp(min=0) @ l.t() + layer.weight.clamp(max=0) @ u.t() \n",
    "                  + layer.bias[:,None]).t()\n",
    "            u_ = (layer.weight.clamp(min=0) @ u.t() + layer.weight.clamp(max=0) @ l.t() \n",
    "                  + layer.bias[:,None]).t()\n",
    "        elif isinstance(layer, nn.Conv2d):\n",
    "            l_ = (nn.functional.conv2d(l, layer.weight.clamp(min=0), bias=None, \n",
    "                                       stride=layer.stride, padding=layer.padding,\n",
    "                                       dilation=layer.dilation, groups=layer.groups) +\n",
    "                  nn.functional.conv2d(u, layer.weight.clamp(max=0), bias=None, \n",
    "                                       stride=layer.stride, padding=layer.padding,\n",
    "                                       dilation=layer.dilation, groups=layer.groups) +\n",
    "                  layer.bias[None,:,None,None])\n",
    "            \n",
    "            u_ = (nn.functional.conv2d(u, layer.weight.clamp(min=0), bias=None, \n",
    "                                       stride=layer.stride, padding=layer.padding,\n",
    "                                       dilation=layer.dilation, groups=layer.groups) +\n",
    "                  nn.functional.conv2d(l, layer.weight.clamp(max=0), bias=None, \n",
    "                                       stride=layer.stride, padding=layer.padding,\n",
    "                                       dilation=layer.dilation, groups=layer.groups) + \n",
    "                  layer.bias[None,:,None,None])\n",
    "            \n",
    "        elif isinstance(layer, nn.ReLU):\n",
    "            l_ = l.clamp(min=0)\n",
    "            u_ = u.clamp(min=0)\n",
    "            \n",
    "        bounds.append((l_, u_))\n",
    "        l,u = l_, u_\n",
    "    return bounds"
   ]
  },
  {
   "cell_type": "code",
   "execution_count": 5,
   "metadata": {},
   "outputs": [],
   "source": [
    "import cvxpy as cp\n",
    "\n",
    "def form_milp(model, c, initial_bounds, bounds):\n",
    "    linear_layers = [(layer, bound) for layer, bound in zip(model,bounds) if isinstance(layer, nn.Linear)]\n",
    "    d = len(linear_layers)-1\n",
    "    \n",
    "    # create cvxpy variables\n",
    "    z = ([cp.Variable(layer.in_features) for layer, _ in linear_layers] + \n",
    "         [cp.Variable(linear_layers[-1][0].out_features)])\n",
    "    v = [cp.Variable(layer.out_features, boolean=True) for layer, _ in linear_layers[:-1]]\n",
    "    \n",
    "    # extract relevant matrices\n",
    "    W = [layer.weight.detach().cpu().numpy() for layer,_ in linear_layers]\n",
    "    b = [layer.bias.detach().cpu().numpy() for layer,_ in linear_layers]\n",
    "    l = [l[0].detach().cpu().numpy() for _, (l,_) in linear_layers]\n",
    "    u = [u[0].detach().cpu().numpy() for _, (_,u) in linear_layers]\n",
    "    l0 = initial_bound[0][0].view(-1).detach().cpu().numpy()\n",
    "    u0 = initial_bound[1][0].view(-1).detach().cpu().numpy()\n",
    "    \n",
    "    # add ReLU constraints\n",
    "    constraints = []\n",
    "    for i in range(len(linear_layers)-1):\n",
    "        constraints += [z[i+1] >= W[i] @ z[i] + b[i], \n",
    "                        z[i+1] >= 0,\n",
    "                        cp.multiply(v[i], u[i]) >= z[i+1],\n",
    "                        W[i] @ z[i] + b[i] >= z[i+1] + cp.multiply((1-v[i]), l[i])]\n",
    "    \n",
    "    # final linear constraint\n",
    "    constraints += [z[d+1] == W[d] @ z[d] + b[d]]\n",
    "    \n",
    "    # initial bound constraints\n",
    "    constraints += [z[0] >= l0, z[0] <= u0]\n",
    "    \n",
    "    return cp.Problem(cp.Minimize(c @ z[d+1]), constraints), (z, v)"
   ]
  },
  {
   "cell_type": "code",
   "execution_count": 6,
   "metadata": {},
   "outputs": [],
   "source": [
    "from torchvision import datasets, transforms\n",
    "from torch.utils.data import DataLoader\n",
    "\n",
    "mnist_train = datasets.MNIST(\"../data\", train=True, download=True, transform=transforms.ToTensor())\n",
    "mnist_test = datasets.MNIST(\"../data\", train=False, download=True, transform=transforms.ToTensor())\n",
    "train_loader = DataLoader(mnist_train, batch_size = 100, shuffle=True)\n",
    "test_loader = DataLoader(mnist_test, batch_size = 100, shuffle=False)"
   ]
  },
  {
   "cell_type": "code",
   "execution_count": 7,
   "metadata": {},
   "outputs": [],
   "source": [
    "for X,y in test_loader:\n",
    "    X,y = X.to(device), y.to(device)\n",
    "    break"
   ]
  },
  {
   "cell_type": "code",
   "execution_count": 8,
   "metadata": {},
   "outputs": [],
   "source": [
    "class Model(nn.Module):\n",
    "    def __init__(self, module_list):\n",
    "        super(Model, self).__init__()\n",
    "        self.model = nn.ModuleList(module_list)\n",
    "\n",
    "    def __iter__(self):\n",
    "        ''' Returns the Iterator object '''\n",
    "        return iter(self.model)\n",
    "\n",
    "    def __len__(self):\n",
    "        return len(self.model)\n",
    "\n",
    "    def __getitem__(self, index):\n",
    "        return self.model[index]\n",
    "\n",
    "    def __setitem__(self, idx, value):\n",
    "        self.model[idx] = value\n",
    "\n",
    "    def register_backward_hooks(self):\n",
    "        for module_pt in self.model:\n",
    "            if hasattr(module_pt,'register_masking_hooks'):\n",
    "                module_pt.register_masking_hooks()\n",
    "    \n",
    "    def unregister_backward_hooks(self):\n",
    "        for module_pt in self.model:\n",
    "            if hasattr(module_pt,'unregister_masking_hooks'):\n",
    "                module_pt.unregister_masking_hooks()    \n",
    "\n",
    "    def forward(self, x):\n",
    "        for module_pt in self.model:\n",
    "            x = module_pt(x)\n",
    "        return x\n",
    "    \n",
    "    \n",
    "    \n",
    "class FullyConnectedBaselineModel(Model):\n",
    "    def __init__(self, name='FCBaseline', input_size=784, n_output_classes=10, n_channels=-1):\n",
    "        self.name = name\n",
    "        module_list = [\n",
    "            Flatten(), \n",
    "            nn.Linear(input_size, 50), \n",
    "            nn.ReLU(True),\n",
    "            nn.Linear(50, 20), \n",
    "            nn.ReLU(True),\n",
    "            nn.Linear(20, n_output_classes)\n",
    "        ]\n",
    "\n",
    "        super(FullyConnectedBaselineModel, self).__init__(module_list)"
   ]
  },
  {
   "cell_type": "code",
   "execution_count": 9,
   "metadata": {},
   "outputs": [],
   "source": [
    "PATH = '/Users/patrickherbert/Documents/Classes/Spring 2020/DL in DO/Project/mip-for-ann-master/experiments/FCBaseline/lr_2/epoch_20/dataset_0/optimizer_2/exp_4/'"
   ]
  },
  {
   "cell_type": "code",
   "execution_count": 10,
   "metadata": {},
   "outputs": [
    {
     "name": "stdout",
     "output_type": "stream",
     "text": [
      "----------------------------------------------------------------\n",
      "        Layer (type)               Output Shape         Param #\n",
      "================================================================\n",
      "           Flatten-1                  [-1, 784]               0\n",
      "            Linear-2                   [-1, 50]          39,250\n",
      "              ReLU-3                   [-1, 50]               0\n",
      "            Linear-4                   [-1, 20]           1,020\n",
      "              ReLU-5                   [-1, 20]               0\n",
      "            Linear-6                   [-1, 10]             210\n",
      "================================================================\n",
      "Total params: 40,480\n",
      "Trainable params: 40,480\n",
      "Non-trainable params: 0\n",
      "----------------------------------------------------------------\n",
      "Input size (MB): 0.00\n",
      "Forward/backward pass size (MB): 0.01\n",
      "Params size (MB): 0.15\n",
      "Estimated Total Size (MB): 0.16\n",
      "----------------------------------------------------------------\n"
     ]
    }
   ],
   "source": [
    "MODEL_PATH = PATH + 'FCBaseline.pt'\n",
    "model_info = torch.load(MODEL_PATH, map_location=torch.device('cpu'))\n",
    "model_state_dict = model_info.get(\"model_state_dict\")\n",
    "model = FullyConnectedBaselineModel()\n",
    "model.load_state_dict(model_state_dict)\n",
    "summary(model,(1,28,28))"
   ]
  },
  {
   "cell_type": "markdown",
   "metadata": {},
   "source": [
    "Below is the MaskedLinear class which we need to create in order to make a MaskedModel object and get the weights from that loaded into a normal model."
   ]
  },
  {
   "cell_type": "code",
   "execution_count": 11,
   "metadata": {},
   "outputs": [],
   "source": [
    "class MaskedLinear(nn.Module):\n",
    "    def __init__(self, in_dim, out_dim, indices_mask=None):\n",
    "        \"\"\"initialization of masked linear layer\n",
    "        \n",
    "        Arguments:\n",
    "            nn {[type]} -- [description]\n",
    "            in_dim {int} -- size of input features to linear layer\n",
    "            out_dim {int} -- size of output features \n",
    "        \n",
    "        Keyword Arguments:\n",
    "            indices_mask {list} --  list of two lists containing indices for dimensions 0 and 1, used to create the mask, dimension 0 in_dim and dimension 1 out dim which is n neurons (default: {None})\n",
    "        \"\"\"        \n",
    "        super(MaskedLinear, self).__init__()\n",
    "        if indices_mask is not None:\n",
    "            self.mask_neurons(indices_mask)\n",
    "        self.name = 'linear'\n",
    "        self.linear = nn.Linear(in_dim, out_dim)\n",
    "        self.in_features = self.linear.in_features\n",
    "        self.out_features = self.linear.out_features\n",
    "        self.output_size = self.out_features\n",
    "        self.input_size = self.in_features\n",
    "        self.handle = None\n",
    "        self.has_indices_mask = False\n",
    "\n",
    "    @staticmethod\n",
    "    def copy_layer(linear_layer, input_size=-1):\n",
    "        \"\"\"clone a pytorch linear layer\n",
    "        \n",
    "        Arguments:\n",
    "            linear_layer {nn.Linear} -- linear layer that would be cloned into MaskedLinear Object\n",
    "        \n",
    "        Keyword Arguments:\n",
    "            input_size {int} -- size of input (default: {-1})\n",
    "        \n",
    "        Returns:\n",
    "            MaskedConv -- returns a cloned MaskedConv object of the pytorch layer\n",
    "        \"\"\"        \n",
    "        new_layer = MaskedLinear(\n",
    "            linear_layer.in_features, linear_layer.out_features)\n",
    "        # copy weights to the new layer\n",
    "        new_layer.linear.weight.data = copy.deepcopy(linear_layer.weight.data)\n",
    "        new_layer.linear.bias.data = copy.deepcopy(linear_layer.bias.data)\n",
    "        return new_layer\n",
    "\n",
    "    def mask_neurons(self, indices_mask):\n",
    "        \"\"\"mask neurons on the output dimension of the Linear layer based on input indices\n",
    "        \n",
    "        Arguments:\n",
    "            indices_mask {list} -- list of indices of parameters to be masked in Linear layer\n",
    "        \"\"\"        \n",
    "        if len(indices_mask) > 0:\n",
    "            self.has_indices_mask = True\n",
    "        self.mask = torch.zeros([self.out_features, self.in_features]).bool()\n",
    "        if indices_mask.ndim == 1:\n",
    "            self.mask[indices_mask, :] = 1\n",
    "        else:\n",
    "            self.mask[indices_mask] = 1  # create mask\n",
    "        self.mask_cached_neurons()\n",
    "\n",
    "    def mask_cached_neurons(self):\n",
    "        \"\"\"\n",
    "        set masked weights to zero\n",
    "        \"\"\"        \n",
    "        if self.has_indices_mask:\n",
    "            self.linear.weight.data[self.mask] = 0\n",
    "\n",
    "    def backward_hook(self, grad):\n",
    "        \"\"\"\n",
    "        a callback backward hook called by pytorch during gradient computation\n",
    "        \n",
    "        Arguments:\n",
    "            grad {tensor} -- gradients of the parameter that pytorch registered this hook on\n",
    "        \n",
    "        Returns:\n",
    "            [tensor] -- updated gradients\n",
    "        \"\"\"  \n",
    "        # Clone due to not being allowed to modify in-place gradients\n",
    "        out = grad.clone()\n",
    "        out[self.mask] = 0\n",
    "        return out\n",
    "\n",
    "    def register_masking_hooks(self):\n",
    "        \"\"\"\n",
    "        register backward hook on convolutional weights for backprop through a sparse model\n",
    "        \"\"\"   \n",
    "        if self.has_indices_mask and self.handle is None:\n",
    "            self.handle = self.linear.weight.register_hook(self.backward_hook)\n",
    "\n",
    "    def unregister_masking_hooks(self):\n",
    "        \"\"\"\n",
    "        unregister an existing masking hooks after finishing trainingbecause hooks would make predictions slower\n",
    "        \"\"\"  \n",
    "        if self.handle is not None:\n",
    "            self.handle.remove()\n",
    "\n",
    "    def forward(self, x):\n",
    "        \"\"\"\n",
    "        forward pass on input\n",
    "        \n",
    "        Arguments:\n",
    "            input {Tensor} -- input image that will pass through linear layer\n",
    "        \n",
    "        Returns:\n",
    "            tensor -- Linear layer output\n",
    "        \"\"\"  \n",
    "        x = self.linear(x)\n",
    "        if self.has_indices_mask:\n",
    "            assert (self.linear.weight.data[self.mask] == 0).all()\n",
    "        return x"
   ]
  },
  {
   "cell_type": "markdown",
   "metadata": {},
   "source": [
    "Then we define a new masked model object to load this into so that we can get the linear weights out. "
   ]
  },
  {
   "cell_type": "code",
   "execution_count": 12,
   "metadata": {},
   "outputs": [],
   "source": [
    "class MaskedFCBM(Model):\n",
    "    def __init__(self, name='MaskedFCBM', input_size=784, n_output_classes=10, n_channels=-1):\n",
    "        self.name = name\n",
    "        module_list = [\n",
    "            Flatten(), \n",
    "            MaskedLinear(input_size, 50), \n",
    "            nn.ReLU(True),\n",
    "            MaskedLinear(50, 20), \n",
    "            nn.ReLU(True),\n",
    "            MaskedLinear(20, n_output_classes)\n",
    "        ]\n",
    "\n",
    "        super(MaskedFCBM, self).__init__(module_list)"
   ]
  },
  {
   "cell_type": "code",
   "execution_count": 13,
   "metadata": {},
   "outputs": [
    {
     "name": "stdout",
     "output_type": "stream",
     "text": [
      "----------------------------------------------------------------\n",
      "        Layer (type)               Output Shape         Param #\n",
      "================================================================\n",
      "           Flatten-1                  [-1, 784]               0\n",
      "            Linear-2                   [-1, 50]          39,250\n",
      "      MaskedLinear-3                   [-1, 50]               0\n",
      "              ReLU-4                   [-1, 50]               0\n",
      "            Linear-5                   [-1, 20]           1,020\n",
      "      MaskedLinear-6                   [-1, 20]               0\n",
      "              ReLU-7                   [-1, 20]               0\n",
      "            Linear-8                   [-1, 10]             210\n",
      "      MaskedLinear-9                   [-1, 10]               0\n",
      "================================================================\n",
      "Total params: 40,480\n",
      "Trainable params: 40,480\n",
      "Non-trainable params: 0\n",
      "----------------------------------------------------------------\n",
      "Input size (MB): 0.00\n",
      "Forward/backward pass size (MB): 0.01\n",
      "Params size (MB): 0.15\n",
      "Estimated Total Size (MB): 0.17\n",
      "----------------------------------------------------------------\n"
     ]
    }
   ],
   "source": [
    "MASK_PATH = PATH + 'FCBaseline_MASK_model_finetuned.pt'\n",
    "#MASK_PATH = PATH + 'FCBaseline_MASK.pt'\n",
    "mask_model_info = torch.load(MASK_PATH, map_location=torch.device('cpu'))\n",
    "mask_state_dict = mask_model_info.get(\"model_state_dict\")\n",
    "masked_model = MaskedFCBM()\n",
    "masked_model.load_state_dict(mask_state_dict)\n",
    "summary(masked_model,(1,28,28))"
   ]
  },
  {
   "cell_type": "markdown",
   "metadata": {},
   "source": [
    "Removing the linear part of the saved weights"
   ]
  },
  {
   "cell_type": "code",
   "execution_count": 14,
   "metadata": {},
   "outputs": [
    {
     "data": {
      "text/plain": [
       "<All keys matched successfully>"
      ]
     },
     "execution_count": 14,
     "metadata": {},
     "output_type": "execute_result"
    }
   ],
   "source": [
    "d = collections.OrderedDict()\n",
    "for name, param in masked_model.named_parameters():\n",
    "    if param.requires_grad:\n",
    "        name = name.replace(\".linear\", \"\")\n",
    "        d[name] = param.data\n",
    "new_masked_model = FullyConnectedBaselineModel() # Loads masked weights into a normal FCBM model\n",
    "new_masked_model.load_state_dict(d)"
   ]
  },
  {
   "cell_type": "markdown",
   "metadata": {},
   "source": [
    "In this section you can play around with different variable values for the MIP program and change values to mess with individual images and run them on the trained model. The index of the maximum value in the resulting array corresponds to the predicted image label. Here we should be able to see a slight difference in the predicted values for each of the different models."
   ]
  },
  {
   "cell_type": "code",
   "execution_count": 130,
   "metadata": {},
   "outputs": [],
   "source": [
    "epsilon = 10 # Change how much the pixels can change in order to create an adversarial example\n",
    "im_num = 2    # Change which test image we're accessing (i = 0,...,99)\n",
    "new_label = 5 # Set the label for which we want to find an adversarial example for im_num, 0 for 0 and so on up to 9"
   ]
  },
  {
   "cell_type": "code",
   "execution_count": 59,
   "metadata": {},
   "outputs": [
    {
     "data": {
      "image/png": "[encoded data removed]",
      "text/plain": [
       "<Figure size 432x288 with 1 Axes>"
      ]
     },
     "metadata": {
      "needs_background": "light"
     },
     "output_type": "display_data"
    }
   ],
   "source": [
    "matplotlib.pyplot.imshow(1-X[im_num][0].cpu().numpy(), cmap='gray');"
   ]
  },
  {
   "cell_type": "code",
   "execution_count": 38,
   "metadata": {},
   "outputs": [
    {
     "data": {
      "text/plain": [
       "tensor([[-9.2966, 12.4353,  0.8562, -2.1959,  1.8975,  0.5165, -5.8936,  0.6549,\n",
       "          1.1780, -1.6546]], grad_fn=<AddmmBackward>)"
      ]
     },
     "execution_count": 38,
     "metadata": {},
     "output_type": "execute_result"
    }
   ],
   "source": [
    "test_data = X[im_num:im_num+1][0]\n",
    "model(test_data)"
   ]
  },
  {
   "cell_type": "code",
   "execution_count": 39,
   "metadata": {},
   "outputs": [
    {
     "data": {
      "text/plain": [
       "tensor([[-10.2658,  11.9540,   0.3126,  -1.5795,   2.3502,  -1.1299,  -6.5017,\n",
       "           1.7842,   1.4604,  -1.0644]], grad_fn=<AddmmBackward>)"
      ]
     },
     "execution_count": 39,
     "metadata": {},
     "output_type": "execute_result"
    }
   ],
   "source": [
    "new_masked_model(test_data)"
   ]
  },
  {
   "cell_type": "markdown",
   "metadata": {},
   "source": [
    "And then set it up the problem to feed into Gurobi"
   ]
  },
  {
   "cell_type": "code",
   "execution_count": 40,
   "metadata": {},
   "outputs": [],
   "source": [
    "initial_bound = ((X[im_num:im_num + 1] - epsilon).clamp(min=0), (X[im_num:im_num + 1] + epsilon).clamp(max=1))\n",
    "bounds_m = bound_propagation(new_masked_model, initial_bound) # Change model to masked_model or vice versa\n",
    "bounds = bound_propagation(model, initial_bound) \n",
    "\n",
    "c = np.zeros(10)        # Creating the objective function for the MIP\n",
    "c[y[im_num].item()] = 1 # y is the correct label for the image selected, setting it to 1 minimzes it in the O.F.\n",
    "c[new_label] = -1       # Maximize the incorrect label we set above in the O.F.\n",
    "\n",
    "\n",
    "prob, (z, v) = form_milp(model, c, initial_bound, bounds) # Change model to masked_model or vice versa\n",
    "prob_m, (z_m, v_m) = form_milp(new_masked_model, c, initial_bound, bounds_m)"
   ]
  },
  {
   "cell_type": "markdown",
   "metadata": {},
   "source": [
    "Solve MIP to find an adversarial example, if the O.F.V is negative then we have successfully found one. "
   ]
  },
  {
   "cell_type": "code",
   "execution_count": 41,
   "metadata": {},
   "outputs": [
    {
     "name": "stdout",
     "output_type": "stream",
     "text": [
      "Parameter OutputFlag unchanged\n",
      "   Value: 1  Min: 0  Max: 1  Default: 1\n",
      "Changed value of parameter QCPDual to 1\n",
      "   Prev: 0  Min: 0  Max: 1  Default: 0\n",
      "Gurobi Optimizer version 9.0.1 build v9.0.1rc0 (mac64)\n",
      "Optimize a model with 1858 rows, 934 columns and 82598 nonzeros\n",
      "Model fingerprint: 0xc361a23e\n",
      "Variable types: 864 continuous, 70 integer (70 binary)\n",
      "Coefficient statistics:\n",
      "  Matrix range     [7e-06, 2e+01]\n",
      "  Objective range  [1e+00, 1e+00]\n",
      "  Bounds range     [1e+00, 1e+00]\n",
      "  RHS range        [2e-03, 1e+01]\n",
      "Presolve removed 1708 rows and 44 columns\n",
      "Presolve time: 0.18s\n",
      "Presolved: 150 rows, 890 columns, 51233 nonzeros\n",
      "Variable types: 846 continuous, 44 integer (44 binary)\n",
      "\n",
      "Root relaxation: objective -2.199283e+01, 95 iterations, 0.01 seconds\n",
      "\n",
      "    Nodes    |    Current Node    |     Objective Bounds      |     Work\n",
      " Expl Unexpl |  Obj  Depth IntInf | Incumbent    BestBd   Gap | It/Node Time\n",
      "\n",
      "     0     0  -21.99283    0   22          -  -21.99283      -     -    0s\n",
      "     0     0  -10.03922    0   23          -  -10.03922      -     -    0s\n",
      "H    0     0                       0.0810944  -10.03922      -     -    0s\n",
      "     0     0  -10.02150    0   23    0.08109  -10.02150      -     -    0s\n",
      "H    0     0                      -0.0571115  -10.02150      -     -    0s\n",
      "     0     0   -8.72127    0   25   -0.05711   -8.72127      -     -    0s\n",
      "     0     0   -8.62228    0   25   -0.05711   -8.62228      -     -    0s\n",
      "H    0     0                      -0.4137388   -6.50979  1473%     -    0s\n",
      "\n",
      "Cutting planes:\n",
      "  Gomory: 13\n",
      "  Implied bound: 2\n",
      "  MIR: 22\n",
      "  Flow cover: 22\n",
      "  RLT: 1\n",
      "\n",
      "Explored 1 nodes (185 simplex iterations) in 0.65 seconds\n",
      "Thread count was 8 (of 8 available processors)\n",
      "\n",
      "Solution count 3: -0.413739 -0.0571115 0.0810944 \n",
      "\n",
      "Optimal solution found (tolerance 1.00e-04)\n",
      "Best objective -4.137387674735e-01, best bound -4.137387674735e-01, gap 0.0000%\n"
     ]
    },
    {
     "data": {
      "text/plain": [
       "-0.413738767473542"
      ]
     },
     "execution_count": 41,
     "metadata": {},
     "output_type": "execute_result"
    }
   ],
   "source": [
    "prob.solve(solver=cp.GUROBI, verbose=True) # Solve normal model"
   ]
  },
  {
   "cell_type": "markdown",
   "metadata": {},
   "source": [
    "Now we can plot the perturbed image that we found to see what it looks like.\n"
   ]
  },
  {
   "cell_type": "code",
   "execution_count": 42,
   "metadata": {},
   "outputs": [
    {
     "data": {
      "image/png": "[encoded data removed]",
      "text/plain": [
       "<Figure size 432x288 with 1 Axes>"
      ]
     },
     "metadata": {
      "needs_background": "light"
     },
     "output_type": "display_data"
    }
   ],
   "source": [
    "plt.imshow(1-z[0].value.reshape(28,28), cmap=\"gray\");"
   ]
  },
  {
   "cell_type": "code",
   "execution_count": 188,
   "metadata": {},
   "outputs": [
    {
     "name": "stdout",
     "output_type": "stream",
     "text": [
      "\n",
      "\n",
      "Problem\n",
      "  Name                   :                 \n",
      "  Objective sense        : min             \n",
      "  Type                   : LO (linear optimization problem)\n",
      "  Constraints            : 1858            \n",
      "  Cones                  : 0               \n",
      "  Scalar variables       : 934             \n",
      "  Matrix variables       : 0               \n",
      "  Integer variables      : 70              \n",
      "\n",
      "Optimizer started.\n",
      "Mixed integer optimizer started.\n",
      "Threads used: 8\n",
      "Presolve started.\n",
      "Presolve terminated. Time = 0.03\n",
      "Presolved problem: 887 variables, 152 constraints, 54286 non-zeros\n",
      "Presolved problem: 0 general integer, 45 binary, 842 continuous\n",
      "Clique table size: 0\n",
      "BRANCHES RELAXS   ACT_NDS  DEPTH    BEST_INT_OBJ         BEST_RELAX_OBJ       REL_GAP(%)  TIME  \n",
      "0        1        1        0        NA                   -2.2004741388e+01    NA          0.1   \n",
      "Cut generation started.\n",
      "0        1        1        0        NA                   -2.2004741388e+01    NA          0.2   \n",
      "0        2        1        0        NA                   -1.2389856582e+01    NA          0.2   \n",
      "0        3        1        0        NA                   -9.0684894182e+00    NA          0.3   \n",
      "0        4        1        0        NA                   -7.4607306102e+00    NA          0.3   \n",
      "0        5        1        0        NA                   -5.7175945211e+00    NA          0.4   \n",
      "0        6        1        0        NA                   -5.0267491555e+00    NA          0.4   \n",
      "0        7        1        0        NA                   -4.7897459707e+00    NA          0.5   \n",
      "0        8        1        0        NA                   -4.5185077428e+00    NA          0.5   \n",
      "0        9        1        0        NA                   -4.2063354604e+00    NA          0.6   \n",
      "0        10       1        0        NA                   -4.1199586212e+00    NA          0.6   \n",
      "0        11       1        0        NA                   -4.0643826396e+00    NA          0.7   \n",
      "0        12       1        0        NA                   -4.0441131247e+00    NA          0.8   \n",
      "0        13       1        0        NA                   -4.0361477959e+00    NA          0.8   \n",
      "0        14       1        0        NA                   -4.0211944373e+00    NA          0.9   \n",
      "Cut generation terminated. Time = 0.37\n",
      "0        16       1        0        NA                   -4.0178531403e+00    NA          0.9   \n",
      "10       27       9        1        NA                   -3.8550985279e+00    NA          1.1   \n",
      "21       38       18       6        NA                   -3.8550985279e+00    NA          1.2   \n",
      "35       52       28       2        NA                   -2.9835961354e+00    NA          1.2   \n",
      "59       76       50       5        NA                   -2.5193430603e+00    NA          1.3   \n",
      "107      124      80       8        NA                   -2.5193430603e+00    NA          1.4   \n",
      "187      204      132      3        NA                   -2.4871454673e+00    NA          1.6   \n",
      "315      331      196      5        6.8927083365e+00     -2.4345703152e+00    135.32      2.0   \n",
      "507      514      258      23       3.1230974294e+00     -1.8971359420e+00    160.75      2.5   \n",
      "763      729      202      26       2.6121076336e+00     -1.0100582224e+00    138.67      3.0   \n",
      "963      887      120      12       2.6121076336e+00     3.3247078051e-01     87.27       3.5   \n",
      "1080     948      19       10       2.6121076336e+00     1.1703393928e+00     55.20       3.7   \n",
      "An optimal solution satisfying the relative gap tolerance of 1.00e-02(%) has been located.\n",
      "The relative gap is 0.00e+00(%).\n",
      "An optimal solution satisfying the absolute gap tolerance of 0.00e+00 has been located.\n",
      "The absolute gap is 0.00e+00.\n",
      "\n",
      "Objective of best integer solution : 2.612107633583e+00      \n",
      "Best objective bound               : 2.612107633583e+00      \n",
      "Construct solution objective       : Not employed\n",
      "User objective cut value           : Not employed\n",
      "Number of cuts generated           : 349\n",
      "  Number of Gomory cuts            : 136\n",
      "  Number of CMIR cuts              : 213\n",
      "Number of branches                 : 1096\n",
      "Number of relaxations solved       : 951\n",
      "Number of interior point iterations: 15\n",
      "Number of simplex iterations       : 9849\n",
      "Time spend presolving the root     : 0.03\n",
      "Time spend optimizing the root     : 0.06\n",
      "Mixed integer optimizer terminated. Time: 3.68\n",
      "\n",
      "Optimizer terminated. Time: 3.71    \n",
      "\n",
      "\n",
      "Integer solution solution summary\n",
      "  Problem status  : PRIMAL_FEASIBLE\n",
      "  Solution status : INTEGER_OPTIMAL\n",
      "  Primal.  obj: 2.6121076336e+00    nrm: 2e+01    Viol.  con: 4e-15    var: 2e-16    itg: 2e-16  \n"
     ]
    },
    {
     "data": {
      "text/plain": [
       "2.612107633582955"
      ]
     },
     "execution_count": 188,
     "metadata": {},
     "output_type": "execute_result"
    }
   ],
   "source": [
    "prob_m.solve(solver=cp.GUROBI, verbose=True) # Solve masked model"
   ]
  },
  {
   "cell_type": "code",
   "execution_count": 183,
   "metadata": {},
   "outputs": [
    {
     "data": {
      "text/plain": [
       "{'solver_name': 'MOSEK',\n",
       " 'solve_time': 3.263864040374756,\n",
       " 'setup_time': None,\n",
       " 'num_iters': None}"
      ]
     },
     "execution_count": 183,
     "metadata": {},
     "output_type": "execute_result"
    }
   ],
   "source": [
    "prob_m.solver_stats.__dict__"
   ]
  },
  {
   "cell_type": "code",
   "execution_count": 44,
   "metadata": {},
   "outputs": [
    {
     "data": {
      "image/png": "[encoded data removed]",
      "text/plain": [
       "<Figure size 432x288 with 1 Axes>"
      ]
     },
     "metadata": {
      "needs_background": "light"
     },
     "output_type": "display_data"
    }
   ],
   "source": [
    "plt.imshow(1-z_m[0].value.reshape(28,28), cmap=\"gray\");"
   ]
  },
  {
   "cell_type": "markdown",
   "metadata": {},
   "source": [
    "Finally, we run the perturbed image through the trained model as a sanity check to validate the results we found. "
   ]
  },
  {
   "cell_type": "code",
   "execution_count": 45,
   "metadata": {},
   "outputs": [
    {
     "data": {
      "text/plain": [
       "tensor([[-9.5576,  5.7639, -1.5296,  0.4447, -0.5642,  6.1776, -0.6303,  2.0922,\n",
       "          3.0115, -2.8892]], grad_fn=<AddmmBackward>)"
      ]
     },
     "execution_count": 45,
     "metadata": {},
     "output_type": "execute_result"
    }
   ],
   "source": [
    "perturbed_data = torch.tensor(z[0].value).float()\n",
    "perturbed_data = perturbed_data.view(1,28,-1)\n",
    "model(perturbed_data) # Print perturbed normal model results"
   ]
  },
  {
   "cell_type": "code",
   "execution_count": 47,
   "metadata": {},
   "outputs": [
    {
     "data": {
      "text/plain": [
       "tensor([[-10.4564,   5.1414,  -2.0635,   0.8726,  -0.3550,   4.5803,  -0.4836,\n",
       "           3.0838,   3.3845,  -2.7886]], grad_fn=<AddmmBackward>)"
      ]
     },
     "execution_count": 47,
     "metadata": {},
     "output_type": "execute_result"
    }
   ],
   "source": [
    "perturbed_data = torch.tensor(z_m[0].value).float()\n",
    "perturbed_data = perturbed_data.view(1,28,-1)\n",
    "new_masked_model(perturbed_data) # Print perturbed masked model results"
   ]
  },
  {
   "cell_type": "markdown",
   "metadata": {},
   "source": [
    "## To-Do List:\n",
    "- Evalute accuracy of both models on the test set\n",
    "- Find subset of images that fool the pruned model but not the original model or maybe vice versa\n",
    "- Make models with different levels of sparsity and see how that affects the MIP result (difference of prob), MIP running time\n",
    "- Print out all the adversarial examples found by the MIP not just the optimal one"
   ]
  },
  {
   "cell_type": "markdown",
   "metadata": {},
   "source": [
    "# Get adversarial image database"
   ]
  },
  {
   "cell_type": "code",
   "execution_count": 172,
   "metadata": {},
   "outputs": [],
   "source": [
    "import pandas as pd"
   ]
  },
  {
   "cell_type": "code",
   "execution_count": 191,
   "metadata": {},
   "outputs": [],
   "source": [
    "\n",
    "# DO NOT RUN THIS CELL EVER AGAIN PLEASE FOR THE LOVE OF GOD IT TAKES SO LONG, JUST LOAD THE CSV FILE\n",
    "# Create storage database\n",
    "# Need original image number, original classification, target classification, o.f.v, which model it's from, epsilon\n",
    "epsilon = 0.03\n",
    "data = {'Image Number': [], 'Epsilon': [], 'Model': [], 'Original Classification': [], 'Target Classification': [], \n",
    "        'O.F.V': [], 'Adversarial Image': [], 'Generating Time': []}\n",
    "df = pd.DataFrame.from_dict(data)\n",
    "\n",
    "for i in range(len(X)):\n",
    "    image = X[i:i+1]\n",
    "    initial_bound = ((X[i:i+1] - epsilon).clamp(min=0), (X[i:i+1] + epsilon).clamp(max=1))\n",
    "    bounds_m = bound_propagation(new_masked_model, initial_bound)\n",
    "    bounds = bound_propagation(model, initial_bound) \n",
    "    cor_label = y[i].item()\n",
    "    params = {'MSK_DPAR_OPTIMIZER_MAX_TIME': 60}\n",
    "    \n",
    "    for j in range(0,10):\n",
    "        if j != cor_label:\n",
    "            c = np.zeros(10)        \n",
    "            c[cor_label] = 1 \n",
    "            c[j] = -1\n",
    "            \n",
    "            prob, (z, v) = form_milp(model, c, initial_bound, bounds)\n",
    "            prob.solve(solver=cp.MOSEK, mosek_params = params, verbose=False)\n",
    "            df = df.append(pd.DataFrame.from_dict(\n",
    "                {'Image Number': [i], 'Epsilon': [epsilon], 'Model': ['Original'], \n",
    "                 'Original Classification': [cor_label],\n",
    "                 'Target Classification': [j], 'O.F.V': [prob.value],\n",
    "                 'Adversarial Image': [z[0].value],\n",
    "                 'Generating Time': [prob.solver_stats.solve_time]}))\n",
    "            \n",
    "            prob_m, (z_m, v_m) = form_milp(new_masked_model, c, initial_bound, bounds_m)\n",
    "            prob_m.solve(solver=cp.MOSEK, mosek_params = params, verbose=False)\n",
    "            df = df.append(pd.DataFrame.from_dict(\n",
    "                {'Image Number': [i], 'Epsilon': [epsilon], 'Model': ['Pruned'], \n",
    "                 'Original Classification': [cor_label],\n",
    "                 'Target Classification': [j], 'O.F.V': [prob_m.value],\n",
    "                 'Adversarial Image': [z_m[0].value],\n",
    "                 'Generating Time': [prob_m.solver_stats.solve_time]}))\n",
    "          "
   ]
  },
  {
   "cell_type": "code",
   "execution_count": 192,
   "metadata": {},
   "outputs": [
    {
     "data": {
      "text/html": [
       "<div>\n",
       "<style scoped>\n",
       "    .dataframe tbody tr th:only-of-type {\n",
       "        vertical-align: middle;\n",
       "    }\n",
       "\n",
       "    .dataframe tbody tr th {\n",
       "        vertical-align: top;\n",
       "    }\n",
       "\n",
       "    .dataframe thead th {\n",
       "        text-align: right;\n",
       "    }\n",
       "</style>\n",
       "<table border=\"1\" class=\"dataframe\">\n",
       "  <thead>\n",
       "    <tr style=\"text-align: right;\">\n",
       "      <th></th>\n",
       "      <th>Image Number</th>\n",
       "      <th>Epsilon</th>\n",
       "      <th>Model</th>\n",
       "      <th>Original Classification</th>\n",
       "      <th>Target Classification</th>\n",
       "      <th>O.F.V</th>\n",
       "      <th>Adversarial Image</th>\n",
       "      <th>Generating Time</th>\n",
       "    </tr>\n",
       "  </thead>\n",
       "  <tbody>\n",
       "    <tr>\n",
       "      <td>0</td>\n",
       "      <td>0.0</td>\n",
       "      <td>0.03</td>\n",
       "      <td>Original</td>\n",
       "      <td>7.0</td>\n",
       "      <td>0.0</td>\n",
       "      <td>6.534143</td>\n",
       "      <td>[0.029999999329447746, 0.0, 0.0299999993294477...</td>\n",
       "      <td>2.263241</td>\n",
       "    </tr>\n",
       "    <tr>\n",
       "      <td>0</td>\n",
       "      <td>0.0</td>\n",
       "      <td>0.03</td>\n",
       "      <td>Pruned</td>\n",
       "      <td>7.0</td>\n",
       "      <td>0.0</td>\n",
       "      <td>8.964636</td>\n",
       "      <td>[0.029999999329447746, 0.0, 0.0299999993294477...</td>\n",
       "      <td>2.460373</td>\n",
       "    </tr>\n",
       "    <tr>\n",
       "      <td>0</td>\n",
       "      <td>0.0</td>\n",
       "      <td>0.03</td>\n",
       "      <td>Original</td>\n",
       "      <td>7.0</td>\n",
       "      <td>1.0</td>\n",
       "      <td>7.214301</td>\n",
       "      <td>[0.0, 0.029999999329447746, 0.0299999993294477...</td>\n",
       "      <td>4.395417</td>\n",
       "    </tr>\n",
       "    <tr>\n",
       "      <td>0</td>\n",
       "      <td>0.0</td>\n",
       "      <td>0.03</td>\n",
       "      <td>Pruned</td>\n",
       "      <td>7.0</td>\n",
       "      <td>1.0</td>\n",
       "      <td>8.591112</td>\n",
       "      <td>[0.029999999329447746, 0.029999999329447746, 0...</td>\n",
       "      <td>3.337015</td>\n",
       "    </tr>\n",
       "    <tr>\n",
       "      <td>0</td>\n",
       "      <td>0.0</td>\n",
       "      <td>0.03</td>\n",
       "      <td>Original</td>\n",
       "      <td>7.0</td>\n",
       "      <td>2.0</td>\n",
       "      <td>6.081009</td>\n",
       "      <td>[0.029999999329447746, 0.029999999329447746, 0...</td>\n",
       "      <td>2.846078</td>\n",
       "    </tr>\n",
       "    <tr>\n",
       "      <td>...</td>\n",
       "      <td>...</td>\n",
       "      <td>...</td>\n",
       "      <td>...</td>\n",
       "      <td>...</td>\n",
       "      <td>...</td>\n",
       "      <td>...</td>\n",
       "      <td>...</td>\n",
       "      <td>...</td>\n",
       "    </tr>\n",
       "    <tr>\n",
       "      <td>0</td>\n",
       "      <td>99.0</td>\n",
       "      <td>0.03</td>\n",
       "      <td>Pruned</td>\n",
       "      <td>9.0</td>\n",
       "      <td>6.0</td>\n",
       "      <td>12.117254</td>\n",
       "      <td>[0.029999999329447746, 0.029999999329447746, 0...</td>\n",
       "      <td>3.041679</td>\n",
       "    </tr>\n",
       "    <tr>\n",
       "      <td>0</td>\n",
       "      <td>99.0</td>\n",
       "      <td>0.03</td>\n",
       "      <td>Original</td>\n",
       "      <td>9.0</td>\n",
       "      <td>7.0</td>\n",
       "      <td>5.925384</td>\n",
       "      <td>[0.029999999329447746, 0.029999999329447746, 0...</td>\n",
       "      <td>3.472800</td>\n",
       "    </tr>\n",
       "    <tr>\n",
       "      <td>0</td>\n",
       "      <td>99.0</td>\n",
       "      <td>0.03</td>\n",
       "      <td>Pruned</td>\n",
       "      <td>9.0</td>\n",
       "      <td>7.0</td>\n",
       "      <td>-2.175285</td>\n",
       "      <td>[0.029999999329447746, 0.029999999329447746, 0...</td>\n",
       "      <td>4.595986</td>\n",
       "    </tr>\n",
       "    <tr>\n",
       "      <td>0</td>\n",
       "      <td>99.0</td>\n",
       "      <td>0.03</td>\n",
       "      <td>Original</td>\n",
       "      <td>9.0</td>\n",
       "      <td>8.0</td>\n",
       "      <td>7.543757</td>\n",
       "      <td>[0.029999999329447746, 0.029999999329447746, 0...</td>\n",
       "      <td>3.660618</td>\n",
       "    </tr>\n",
       "    <tr>\n",
       "      <td>0</td>\n",
       "      <td>99.0</td>\n",
       "      <td>0.03</td>\n",
       "      <td>Pruned</td>\n",
       "      <td>9.0</td>\n",
       "      <td>8.0</td>\n",
       "      <td>2.366481</td>\n",
       "      <td>[0.029999999329447746, 0.029999999329447746, 0...</td>\n",
       "      <td>5.897085</td>\n",
       "    </tr>\n",
       "  </tbody>\n",
       "</table>\n",
       "<p>1800 rows × 8 columns</p>\n",
       "</div>"
      ],
      "text/plain": [
       "    Image Number  Epsilon     Model  Original Classification  \\\n",
       "0            0.0     0.03  Original                      7.0   \n",
       "0            0.0     0.03    Pruned                      7.0   \n",
       "0            0.0     0.03  Original                      7.0   \n",
       "0            0.0     0.03    Pruned                      7.0   \n",
       "0            0.0     0.03  Original                      7.0   \n",
       "..           ...      ...       ...                      ...   \n",
       "0           99.0     0.03    Pruned                      9.0   \n",
       "0           99.0     0.03  Original                      9.0   \n",
       "0           99.0     0.03    Pruned                      9.0   \n",
       "0           99.0     0.03  Original                      9.0   \n",
       "0           99.0     0.03    Pruned                      9.0   \n",
       "\n",
       "    Target Classification      O.F.V  \\\n",
       "0                     0.0   6.534143   \n",
       "0                     0.0   8.964636   \n",
       "0                     1.0   7.214301   \n",
       "0                     1.0   8.591112   \n",
       "0                     2.0   6.081009   \n",
       "..                    ...        ...   \n",
       "0                     6.0  12.117254   \n",
       "0                     7.0   5.925384   \n",
       "0                     7.0  -2.175285   \n",
       "0                     8.0   7.543757   \n",
       "0                     8.0   2.366481   \n",
       "\n",
       "                                    Adversarial Image  Generating Time  \n",
       "0   [0.029999999329447746, 0.0, 0.0299999993294477...         2.263241  \n",
       "0   [0.029999999329447746, 0.0, 0.0299999993294477...         2.460373  \n",
       "0   [0.0, 0.029999999329447746, 0.0299999993294477...         4.395417  \n",
       "0   [0.029999999329447746, 0.029999999329447746, 0...         3.337015  \n",
       "0   [0.029999999329447746, 0.029999999329447746, 0...         2.846078  \n",
       "..                                                ...              ...  \n",
       "0   [0.029999999329447746, 0.029999999329447746, 0...         3.041679  \n",
       "0   [0.029999999329447746, 0.029999999329447746, 0...         3.472800  \n",
       "0   [0.029999999329447746, 0.029999999329447746, 0...         4.595986  \n",
       "0   [0.029999999329447746, 0.029999999329447746, 0...         3.660618  \n",
       "0   [0.029999999329447746, 0.029999999329447746, 0...         5.897085  \n",
       "\n",
       "[1800 rows x 8 columns]"
      ]
     },
     "execution_count": 192,
     "metadata": {},
     "output_type": "execute_result"
    }
   ],
   "source": [
    "df"
   ]
  },
  {
   "cell_type": "code",
   "execution_count": 194,
   "metadata": {},
   "outputs": [],
   "source": [
    "# Save the dataframe as a csv so we don't lose it\n",
    "from IPython.display import FileLink, FileLinks\n",
    "df.to_csv('./adv_data.csv', index=False)"
   ]
  }
 ],
 "metadata": {
  "kernelspec": {
   "display_name": "Python 3",
   "language": "python",
   "name": "python3"
  },
  "language_info": {
   "codemirror_mode": {
    "name": "ipython",
    "version": 3
   },
   "file_extension": ".py",
   "mimetype": "text/x-python",
   "name": "python",
   "nbconvert_exporter": "python",
   "pygments_lexer": "ipython3",
   "version": "3.7.4"
  }
 },
 "nbformat": 4,
 "nbformat_minor": 2
}
